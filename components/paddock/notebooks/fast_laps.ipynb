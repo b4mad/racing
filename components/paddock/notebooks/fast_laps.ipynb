{
 "cells": [
  {
   "cell_type": "code",
   "execution_count": 2,
   "metadata": {},
   "outputs": [
    {
     "name": "stderr",
     "output_type": "stream",
     "text": [
      "2023-06-04 18:06:45,064 DEBUG Influx: Connected to https://telemetry.b4mad.racing/\n"
     ]
    }
   ],
   "source": [
    "import django_initializer\n",
    "from telemetry.models import FastLap, Lap\n",
    "from telemetry.analyzer import Analyzer\n",
    "from telemetry.influx import Influx\n",
    "import plotly.io as pio\n",
    "\n",
    "pio.renderers.default = \"svg\"  # comment this line to use interactive plots\n",
    "\n",
    "import pandas as pd\n",
    "from telemetry.visualizer import *\n",
    "\n",
    "%load_ext autoreload\n",
    "%autoreload 2\n",
    "\n",
    "analyzer = Analyzer()\n",
    "influx = Influx()"
   ]
  },
  {
   "cell_type": "code",
   "execution_count": 6,
   "metadata": {},
   "outputs": [
    {
     "data": {
      "text/plain": [
       "144.4143"
      ]
     },
     "execution_count": 6,
     "metadata": {},
     "output_type": "execute_result"
    }
   ],
   "source": [
    "# Automobilista 2 - SpaFrancorchamps:Spa_Francorchamps_2022 - Mercedes-Benz CLK LM\n",
    "# iRacing / richmond / Gen 4 Chevrolet Impala\n",
    "kwargs = {\n",
    "    \"track__game__name\": \"iRacing\",\n",
    "    # \"track__name\": \"fuji nochicane\",\n",
    "    # \"track__name\": \"longbeach\",\n",
    "    \"track__name\": \"oschersleben gp\",\n",
    "    # \"track__name\": \"oran gp\",\n",
    "    # \"track__name\": \"nurburgring combined\",\n",
    "    # \"track__name\": \"richmond\",\n",
    "    \"car__name\": \"Ferrari 488 GT3 Evo 2020\",\n",
    "    # \"car__name\": \"Gen 4 Chevrolet Impala\",\n",
    "}\n",
    "laps = Lap.objects.filter(**kwargs)\n",
    "laps.order_by(\"time\")\n",
    "laps.first().time"
   ]
  }
 ],
 "metadata": {
  "kernelspec": {
   "display_name": "Python 3 (ipykernel)",
   "language": "python",
   "name": "python3"
  },
  "language_info": {
   "codemirror_mode": {
    "name": "ipython",
    "version": 3
   },
   "file_extension": ".py",
   "mimetype": "text/x-python",
   "name": "python",
   "nbconvert_exporter": "python",
   "pygments_lexer": "ipython3",
   "version": "3.10.10"
  },
  "vscode": {
   "interpreter": {
    "hash": "ec0b82c30da6c40ee579e65aee6b1689f5f28a8e3a8da7f828e22b813a9dfaf5"
   }
  }
 },
 "nbformat": 4,
 "nbformat_minor": 2
}
