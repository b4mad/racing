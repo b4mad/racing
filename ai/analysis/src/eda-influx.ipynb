{
 "cells": [
  {
   "cell_type": "markdown",
   "id": "9ff2d42b",
   "metadata": {},
   "source": [
    "Let's create an InfluxDB client by importing the modules and setting all the required configuration. The access token is taken from ENV, be sure to keep it in `.env` around before you start the jupyter notebook server."
   ]
  },
  {
   "cell_type": "code",
   "execution_count": null,
   "id": "d50e1502",
   "metadata": {},
   "outputs": [],
   "source": [
    "import os\n",
    "\n",
    "import pandas as pd\n",
    "import influxdb_client\n",
    "from influxdb_client.client.write_api import SYNCHRONOUS\n",
    "\n",
    "# configure influxdb client\n",
    "BUCKET = \"racing\"\n",
    "ORG = \"b4mad\"\n",
    "TOKEN = os.environ.get(\"INFLUXDB_TOKEN\")\n",
    "URL = \"https://telemetry.b4mad.racing/\"\n",
    "\n",
    "# and create the client and a quary api\n",
    "client = influxdb_client.InfluxDBClient(\n",
    "   url=URL,\n",
    "   token=TOKEN,\n",
    "   org=ORG\n",
    ")\n",
    "\n",
    "query_api = client.query_api()"
   ]
  },
  {
   "cell_type": "code",
   "execution_count": null,
   "id": "0eb1ec77",
   "metadata": {},
   "outputs": [],
   "source": [
    "query = f\"\"\"\n",
    "from(bucket: \"{BUCKET}\")\n",
    "  |> range(start: -30d, stop: now())\n",
    "  |> filter(fn: (r) => r[\"_measurement\"] == \"laps\")\n",
    "  |> filter(fn: (r) => r[\"_field\"] == \"TrackPositionPercent\" or r[\"_field\"] == \"Brake\" or r[\"_field\"] == \"CurrentLap\")\n",
    "  |> filter(fn: (r) => r[\"SessionId\"] == \"1665367439\")\n",
    "  |> pivot(rowKey: [\"_time\"], columnKey: [\"_field\"], valueColumn: \"_value\")\n",
    "  |> sort(columns: [\"_time\"], desc: false)\n",
    "  |> keep(columns: [\"_time\", \"CarModel\", \"TrackCode\", \"Brake\", \"TrackPositionPercent\", \"CurrentLap\"])\n",
    "  |> fill(usePrevious: true, column: \"CurrentLap\")\n",
    "  |> fill(usePrevious: true, column: \"Brake\")\n",
    "\"\"\"\n",
    "\n",
    "df = query_api.query_data_frame(org=ORG, query=query)"
   ]
  },
  {
   "cell_type": "code",
   "execution_count": null,
   "id": "bdaaa8b8",
   "metadata": {},
   "outputs": [],
   "source": [
    "for c in df.columns:\n",
    "    print(c, len(df[c].unique()))"
   ]
  },
  {
   "cell_type": "code",
   "execution_count": null,
   "id": "7ceaffe5",
   "metadata": {},
   "outputs": [],
   "source": [
    "df['datetime'] = pd.to_datetime(df['_time'])\n",
    "df.set_index('datetime',inplace=True)\n",
    "df.sort_index(inplace=True)\n",
    "plt.rcParams[\"figure.figsize\"] = (10,2)\n",
    "df.plot()"
   ]
  },
  {
   "cell_type": "code",
   "execution_count": null,
   "id": "0dd5487a",
   "metadata": {
    "scrolled": false
   },
   "outputs": [],
   "source": [
    "#df= df.pivot(index='TrackPositionPercent',columns=['CurrentLap', 'Brake'], values=['CurrentLap', 'Brake'])\n",
    "#df= df.pivot(index='TrackPositionPercent',columns=['CurrentLap', 'Brake']) \n",
    "df\n"
   ]
  },
  {
   "cell_type": "code",
   "execution_count": null,
   "id": "50a4374c",
   "metadata": {},
   "outputs": [],
   "source": [
    "#df['Gear'].replace('N',0,inplace=True)\n",
    "\n",
    "#df.index = pd.to_datetime(df.index)\n",
    "#df.sort_index(inplace=True)\n",
    "df"
   ]
  },
  {
   "cell_type": "code",
   "execution_count": null,
   "id": "0cdba943",
   "metadata": {
    "scrolled": false
   },
   "outputs": [],
   "source": [
    "import matplotlib.pyplot as plt\n",
    "\n",
    "plt.rcParams[\"figure.figsize\"] = (20,20)\n",
    "cols=['Brake', 'TrackPositionPercent', 'CurrentLap']\n",
    "fig, ax = plt.subplots(len(cols))\n",
    "for i, c in enumerate(cols):\n",
    "    df[c].astype(float).plot(ax=ax[i])\n",
    "    ax[i].set_title(c)\n",
    "plt.show()\n"
   ]
  },
  {
   "cell_type": "code",
   "execution_count": null,
   "id": "84dca54f",
   "metadata": {},
   "outputs": [],
   "source": [
    "lap = 3\n",
    "df[df['CurrentLap']==lap]\n",
    "plt.rcParams[\"figure.figsize\"] = (20,20)\n",
    "fig, ax = plt.subplots(len(cols))\n",
    "for i, c in enumerate(cols):\n",
    "    df.loc[df['CurrentLap']==lap,c].astype(float).plot(ax=ax[i])\n",
    "    ax[i].set_title(c)\n",
    "plt.show()\n"
   ]
  },
  {
   "cell_type": "code",
   "execution_count": null,
   "id": "f03f37b8",
   "metadata": {},
   "outputs": [],
   "source": [
    "df[df['CurrentLap']==lap]\n"
   ]
  },
  {
   "cell_type": "code",
   "execution_count": null,
   "id": "9fec1645",
   "metadata": {
    "scrolled": false
   },
   "outputs": [],
   "source": [
    "import seaborn as sns\n",
    "\n",
    "plt.rcParams[\"figure.figsize\"] = (20,5)\n",
    "for c in ['Brake']:\n",
    "    sns.lineplot(data=df,x='TrackPositionPercent',y=c,hue='CurrentLap', legend=False)\n",
    "    plt.show()"
   ]
  }
 ],
 "metadata": {
  "kernelspec": {
   "display_name": "Python 3 (ipykernel)",
   "language": "python",
   "name": "python3"
  },
  "language_info": {
   "codemirror_mode": {
    "name": "ipython",
    "version": 3
   },
   "file_extension": ".py",
   "mimetype": "text/x-python",
   "name": "python",
   "nbconvert_exporter": "python",
   "pygments_lexer": "ipython3",
   "version": "3.9.14"
  },
  "vscode": {
   "interpreter": {
    "hash": "efb513bf1177cd96c1ccbb28c57410f06184e0523fcbda4e0a04c4c0f56210ff"
   }
  }
 },
 "nbformat": 4,
 "nbformat_minor": 5
}
